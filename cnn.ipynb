{
 "cells": [
  {
   "cell_type": "code",
   "execution_count": 81,
   "metadata": {},
   "outputs": [],
   "source": [
    "import tensorflow as tf\n",
    "import matplotlib.pyplot as plt\n",
    "tf.compat.v1.set_random_seed(2019)"
   ]
  },
  {
   "cell_type": "code",
   "execution_count": 82,
   "metadata": {},
   "outputs": [],
   "source": [
    "import os\n",
    "real = os.listdir('PPGMaps/Real/')\n",
    "fake = os.listdir('PPGMaps/Fake/')\n",
    "import numpy as np\n",
    "train_real = np.random.choice(real,size=700,replace=False)\n",
    "train_fake = np.random.choice(fake,size=700,replace=False)\n",
    "import shutil\n",
    "for i in train_real:\n",
    "    shutil.copy(f'PPGMaps/Real/{i}',f'ImgClass/Train/Real/{i}')\n",
    "for i in train_fake:\n",
    "    shutil.copy(f'PPGMaps/Fake/{i}',f'ImgClass/Train/Fake/{i}')\n",
    "for i in np.setdiff1d(real,train_real):\n",
    "    shutil.copy(f'PPGMaps/Real/{i}',f'ImgClass/Test/Real/{i}')\n",
    "for i in np.setdiff1d(fake,train_fake):\n",
    "    shutil.copy(f'PPGMaps/Fake/{i}',f'ImgClass/Test/Fake/{i}')"
   ]
  },
  {
   "cell_type": "code",
   "execution_count": 83,
   "metadata": {},
   "outputs": [],
   "source": [
    "bs=30         #Setting batch size\n",
    "train_dir = \"ImgClass/Train/\"   #Setting training directory\n",
    "validation_dir = \"ImgClass/Test/\"   #Setting testing directory\n",
    "from tensorflow.keras.preprocessing.image import ImageDataGenerator "
   ]
  },
  {
   "cell_type": "code",
   "execution_count": 84,
   "metadata": {},
   "outputs": [],
   "source": [
    "train_datagen = ImageDataGenerator( rescale = 1.0/255. )\n",
    "test_datagen  = ImageDataGenerator( rescale = 1.0/255. )"
   ]
  },
  {
   "cell_type": "code",
   "execution_count": 85,
   "metadata": {},
   "outputs": [
    {
     "name": "stdout",
     "output_type": "stream",
     "text": [
      "Found 1400 images belonging to 2 classes.\n",
      "Found 595 images belonging to 2 classes.\n"
     ]
    }
   ],
   "source": [
    "train_generator=train_datagen.flow_from_directory(train_dir,batch_size=bs,class_mode='categorical',target_size=(128,32))\n",
    "validation_generator =  test_datagen.flow_from_directory(validation_dir,batch_size=bs,class_mode  = 'categorical',target_size=(128,32))"
   ]
  },
  {
   "cell_type": "code",
   "execution_count": 67,
   "metadata": {},
   "outputs": [],
   "source": [
    "model = tf.keras.models.Sequential([\n",
    "    tf.keras.layers.Conv2D(16,(3,3),activation = \"relu\" , input_shape = (180,180,1)) ,\n",
    "    tf.keras.layers.MaxPooling2D(2,2),\n",
    "    tf.keras.layers.Conv2D(32,(3,3),activation = \"relu\") ,  \n",
    "    tf.keras.layers.MaxPooling2D(2,2),\n",
    "    tf.keras.layers.Conv2D(64,(3,3),activation = \"relu\") ,  \n",
    "    tf.keras.layers.MaxPooling2D(2,2),\n",
    "    tf.keras.layers.Conv2D(128,(3,3),activation = \"relu\"),  \n",
    "    tf.keras.layers.MaxPooling2D(2,2),\n",
    "    tf.keras.layers.Flatten(), \n",
    "    tf.keras.layers.Dense(550,activation=\"relu\"),      #Adding the Hidden layer\n",
    "    tf.keras.layers.Dropout(0.1,seed = 2019),\n",
    "    tf.keras.layers.Dense(400,activation =\"relu\"),\n",
    "    tf.keras.layers.Dropout(0.3,seed = 2019),\n",
    "    tf.keras.layers.Dense(300,activation=\"relu\"),\n",
    "    tf.keras.layers.Dropout(0.4,seed = 2019),\n",
    "    tf.keras.layers.Dense(200,activation =\"relu\"),\n",
    "    tf.keras.layers.Dropout(0.2,seed = 2019),\n",
    "    tf.keras.layers.Dense(2,activation = \"softmax\")   #Adding the Output Layer\n",
    "])\n"
   ]
  },
  {
   "cell_type": "code",
   "execution_count": 68,
   "metadata": {},
   "outputs": [],
   "source": [
    "from tensorflow.keras.optimizers import RMSprop,SGD,Adam\n",
    "adam=Adam(learning_rate=0.001)\n",
    "model.compile(optimizer='adam', loss='categorical_crossentropy', metrics = ['acc'])"
   ]
  },
  {
   "cell_type": "code",
   "execution_count": 92,
   "metadata": {},
   "outputs": [
    {
     "name": "stdout",
     "output_type": "stream",
     "text": [
      "Model: \"sequential_20\"\n",
      "_________________________________________________________________\n",
      " Layer (type)                Output Shape              Param #   \n",
      "=================================================================\n",
      " conv2d_81 (Conv2D)          (None, 128, 32, 32)       896       \n",
      "                                                                 \n",
      " max_pooling2d_79 (MaxPooli  (None, 64, 16, 32)        0         \n",
      " ng2D)                                                           \n",
      "                                                                 \n",
      " conv2d_82 (Conv2D)          (None, 64, 16, 64)        18496     \n",
      "                                                                 \n",
      " max_pooling2d_80 (MaxPooli  (None, 32, 8, 64)         0         \n",
      " ng2D)                                                           \n",
      "                                                                 \n",
      " conv2d_83 (Conv2D)          (None, 32, 8, 128)        73856     \n",
      "                                                                 \n",
      " max_pooling2d_81 (MaxPooli  (None, 16, 4, 128)        0         \n",
      " ng2D)                                                           \n",
      "                                                                 \n",
      " conv2d_84 (Conv2D)          (None, 16, 4, 256)        295168    \n",
      "                                                                 \n",
      " max_pooling2d_82 (MaxPooli  (None, 8, 2, 256)         0         \n",
      " ng2D)                                                           \n",
      "                                                                 \n",
      " conv2d_85 (Conv2D)          (None, 8, 2, 512)         1180160   \n",
      "                                                                 \n",
      " max_pooling2d_83 (MaxPooli  (None, 4, 1, 512)         0         \n",
      " ng2D)                                                           \n",
      "                                                                 \n",
      " flatten_17 (Flatten)        (None, 2048)              0         \n",
      "                                                                 \n",
      " dense_69 (Dense)            (None, 1024)              2098176   \n",
      "                                                                 \n",
      " dropout_35 (Dropout)        (None, 1024)              0         \n",
      "                                                                 \n",
      " dense_70 (Dense)            (None, 512)               524800    \n",
      "                                                                 \n",
      " dropout_36 (Dropout)        (None, 512)               0         \n",
      "                                                                 \n",
      " dense_71 (Dense)            (None, 256)               131328    \n",
      "                                                                 \n",
      " dropout_37 (Dropout)        (None, 256)               0         \n",
      "                                                                 \n",
      " dense_72 (Dense)            (None, 128)               32896     \n",
      "                                                                 \n",
      " dense_73 (Dense)            (None, 2)                 258       \n",
      "                                                                 \n",
      "=================================================================\n",
      "Total params: 4356034 (16.62 MB)\n",
      "Trainable params: 4356034 (16.62 MB)\n",
      "Non-trainable params: 0 (0.00 Byte)\n",
      "_________________________________________________________________\n"
     ]
    }
   ],
   "source": [
    "# Importing required libraries\n",
    "import numpy as np\n",
    "from tensorflow.keras.models import Sequential, load_model\n",
    "from tensorflow.keras.layers import Conv2D, MaxPooling2D, Flatten, Dense, Dropout\n",
    "from tensorflow.keras.optimizers import RMSprop,SGD,Adam\n",
    "\n",
    "# Creating a Sequential model\n",
    "model = Sequential()\n",
    "\n",
    "# Adding Convolutional layers\n",
    "model.add(Conv2D(32, (3, 3), activation='relu', input_shape=(128, 32, 3), padding='same'))\n",
    "model.add(MaxPooling2D((2, 2)))\n",
    "\n",
    "model.add(Conv2D(64, (3, 3), activation='relu', padding='same'))\n",
    "model.add(MaxPooling2D((2, 2)))\n",
    "\n",
    "model.add(Conv2D(128, (3, 3), activation='relu', padding='same'))\n",
    "model.add(MaxPooling2D((2, 2)))\n",
    "\n",
    "model.add(Conv2D(256, (3, 3), activation='relu', padding='same'))\n",
    "model.add(MaxPooling2D((2, 2)))\n",
    "\n",
    "model.add(Conv2D(512, (3, 3), activation='relu', padding='same'))\n",
    "model.add(MaxPooling2D((2, 2)))\n",
    "\n",
    "# Flattening the 3D tensor to 1D vector\n",
    "model.add(Flatten())\n",
    "model.add(Dense(1024, activation='relu'))\n",
    "model.add(Dropout(0.2))\n",
    "\n",
    "model.add(Dense(512, activation='relu'))\n",
    "model.add(Dropout(0.2))\n",
    "\n",
    "model.add(Dense(256, activation='relu'))\n",
    "model.add(Dropout(0.2))\n",
    "\n",
    "# Adding Dense layers for classification\n",
    "model.add(Dense(128, activation='relu'))\n",
    "model.add(Dense(2, activation='softmax'))  # 2 neurons for binary classification with softmax activation\n",
    "adam=Adam(learning_rate=0.001)\n",
    "# Compiling the model\n",
    "model.compile(optimizer=adam, loss='categorical_crossentropy', metrics=['accuracy'])\n",
    "\n",
    "# Summary of the model architecture\n",
    "model.summary()\n"
   ]
  },
  {
   "cell_type": "code",
   "execution_count": 87,
   "metadata": {},
   "outputs": [
    {
     "name": "stdout",
     "output_type": "stream",
     "text": [
      "Epoch 1/100\n",
      "47/47 - 29s - loss: 0.6958 - accuracy: 0.4771 - val_loss: 0.6931 - val_accuracy: 0.4958 - 29s/epoch - 625ms/step\n",
      "Epoch 2/100\n",
      "47/47 - 24s - loss: 0.6906 - accuracy: 0.5379 - val_loss: 0.7028 - val_accuracy: 0.4958 - 24s/epoch - 500ms/step\n",
      "Epoch 3/100\n",
      "47/47 - 20s - loss: 0.6956 - accuracy: 0.5043 - val_loss: 0.6931 - val_accuracy: 0.5042 - 20s/epoch - 419ms/step\n",
      "Epoch 4/100\n",
      "47/47 - 20s - loss: 0.6935 - accuracy: 0.4979 - val_loss: 0.6930 - val_accuracy: 0.6134 - 20s/epoch - 420ms/step\n",
      "Epoch 5/100\n",
      "47/47 - 20s - loss: 0.6916 - accuracy: 0.5307 - val_loss: 0.6926 - val_accuracy: 0.5429 - 20s/epoch - 422ms/step\n",
      "Epoch 6/100\n",
      "47/47 - 20s - loss: 0.6936 - accuracy: 0.5221 - val_loss: 0.6949 - val_accuracy: 0.4958 - 20s/epoch - 421ms/step\n",
      "Epoch 7/100\n",
      "47/47 - 20s - loss: 0.6937 - accuracy: 0.5000 - val_loss: 0.6933 - val_accuracy: 0.4958 - 20s/epoch - 421ms/step\n",
      "Epoch 8/100\n",
      "47/47 - 20s - loss: 0.6934 - accuracy: 0.4750 - val_loss: 0.6932 - val_accuracy: 0.4958 - 20s/epoch - 421ms/step\n",
      "Epoch 9/100\n",
      "47/47 - 20s - loss: 0.6939 - accuracy: 0.4943 - val_loss: 0.6929 - val_accuracy: 0.5042 - 20s/epoch - 422ms/step\n",
      "Epoch 10/100\n",
      "47/47 - 20s - loss: 0.6935 - accuracy: 0.4736 - val_loss: 0.6931 - val_accuracy: 0.4958 - 20s/epoch - 423ms/step\n",
      "Epoch 11/100\n",
      "47/47 - 20s - loss: 0.6932 - accuracy: 0.5000 - val_loss: 0.6932 - val_accuracy: 0.4958 - 20s/epoch - 424ms/step\n",
      "Epoch 12/100\n",
      "47/47 - 20s - loss: 0.6934 - accuracy: 0.4864 - val_loss: 0.6933 - val_accuracy: 0.4958 - 20s/epoch - 429ms/step\n",
      "Epoch 13/100\n",
      "47/47 - 20s - loss: 0.6936 - accuracy: 0.4800 - val_loss: 0.6931 - val_accuracy: 0.5042 - 20s/epoch - 424ms/step\n",
      "Epoch 14/100\n",
      "47/47 - 20s - loss: 0.6934 - accuracy: 0.5007 - val_loss: 0.6932 - val_accuracy: 0.4958 - 20s/epoch - 425ms/step\n",
      "Epoch 15/100\n",
      "47/47 - 20s - loss: 0.6933 - accuracy: 0.4800 - val_loss: 0.6931 - val_accuracy: 0.4958 - 20s/epoch - 425ms/step\n",
      "Epoch 16/100\n",
      "47/47 - 20s - loss: 0.6933 - accuracy: 0.4886 - val_loss: 0.6931 - val_accuracy: 0.4958 - 20s/epoch - 424ms/step\n",
      "Epoch 17/100\n",
      "47/47 - 20s - loss: 0.6932 - accuracy: 0.4964 - val_loss: 0.6931 - val_accuracy: 0.4958 - 20s/epoch - 425ms/step\n",
      "Epoch 18/100\n",
      "47/47 - 20s - loss: 0.6933 - accuracy: 0.4957 - val_loss: 0.6931 - val_accuracy: 0.5042 - 20s/epoch - 423ms/step\n",
      "Epoch 19/100\n",
      "47/47 - 20s - loss: 0.6933 - accuracy: 0.4843 - val_loss: 0.6931 - val_accuracy: 0.5042 - 20s/epoch - 426ms/step\n",
      "Epoch 20/100\n",
      "47/47 - 20s - loss: 0.6932 - accuracy: 0.5000 - val_loss: 0.6929 - val_accuracy: 0.5042 - 20s/epoch - 424ms/step\n",
      "Epoch 21/100\n",
      "47/47 - 20s - loss: 0.6916 - accuracy: 0.5471 - val_loss: 0.6630 - val_accuracy: 0.6084 - 20s/epoch - 427ms/step\n",
      "Epoch 22/100\n",
      "47/47 - 20s - loss: 0.6774 - accuracy: 0.6029 - val_loss: 0.6587 - val_accuracy: 0.6202 - 20s/epoch - 421ms/step\n",
      "Epoch 23/100\n",
      "47/47 - 20s - loss: 0.6744 - accuracy: 0.5707 - val_loss: 0.6610 - val_accuracy: 0.6739 - 20s/epoch - 429ms/step\n",
      "Epoch 24/100\n",
      "47/47 - 20s - loss: 0.6669 - accuracy: 0.6271 - val_loss: 0.6712 - val_accuracy: 0.6992 - 20s/epoch - 422ms/step\n",
      "Epoch 25/100\n",
      "47/47 - 20s - loss: 0.6414 - accuracy: 0.6650 - val_loss: 0.6238 - val_accuracy: 0.6504 - 20s/epoch - 422ms/step\n",
      "Epoch 26/100\n",
      "47/47 - 20s - loss: 0.6106 - accuracy: 0.6771 - val_loss: 0.5973 - val_accuracy: 0.6958 - 20s/epoch - 423ms/step\n",
      "Epoch 27/100\n",
      "47/47 - 20s - loss: 0.6060 - accuracy: 0.6879 - val_loss: 0.5764 - val_accuracy: 0.7042 - 20s/epoch - 425ms/step\n",
      "Epoch 28/100\n",
      "47/47 - 20s - loss: 0.5841 - accuracy: 0.6979 - val_loss: 0.5796 - val_accuracy: 0.7109 - 20s/epoch - 423ms/step\n",
      "Epoch 29/100\n",
      "47/47 - 20s - loss: 0.5853 - accuracy: 0.6993 - val_loss: 0.5605 - val_accuracy: 0.7109 - 20s/epoch - 423ms/step\n",
      "Epoch 30/100\n",
      "47/47 - 20s - loss: 0.5552 - accuracy: 0.7150 - val_loss: 0.5559 - val_accuracy: 0.7025 - 20s/epoch - 425ms/step\n",
      "Epoch 31/100\n",
      "47/47 - 20s - loss: 0.5675 - accuracy: 0.7207 - val_loss: 0.6229 - val_accuracy: 0.6840 - 20s/epoch - 424ms/step\n",
      "Epoch 32/100\n",
      "47/47 - 20s - loss: 0.5561 - accuracy: 0.7114 - val_loss: 0.6087 - val_accuracy: 0.6672 - 20s/epoch - 422ms/step\n",
      "Epoch 33/100\n",
      "47/47 - 20s - loss: 0.5526 - accuracy: 0.7086 - val_loss: 0.6017 - val_accuracy: 0.6723 - 20s/epoch - 423ms/step\n",
      "Epoch 34/100\n",
      "47/47 - 20s - loss: 0.5292 - accuracy: 0.7336 - val_loss: 0.5737 - val_accuracy: 0.7008 - 20s/epoch - 421ms/step\n",
      "Epoch 35/100\n",
      "47/47 - 20s - loss: 0.5020 - accuracy: 0.7529 - val_loss: 0.6394 - val_accuracy: 0.6555 - 20s/epoch - 423ms/step\n",
      "Epoch 36/100\n",
      "47/47 - 20s - loss: 0.4994 - accuracy: 0.7536 - val_loss: 0.5660 - val_accuracy: 0.7092 - 20s/epoch - 423ms/step\n",
      "Epoch 37/100\n",
      "47/47 - 20s - loss: 0.4561 - accuracy: 0.7750 - val_loss: 0.8192 - val_accuracy: 0.7311 - 20s/epoch - 421ms/step\n",
      "Epoch 38/100\n",
      "47/47 - 21s - loss: 0.4568 - accuracy: 0.7750 - val_loss: 0.5733 - val_accuracy: 0.7126 - 21s/epoch - 439ms/step\n",
      "Epoch 39/100\n",
      "47/47 - 20s - loss: 0.4224 - accuracy: 0.8071 - val_loss: 0.6741 - val_accuracy: 0.6571 - 20s/epoch - 422ms/step\n",
      "Epoch 40/100\n",
      "47/47 - 20s - loss: 0.4255 - accuracy: 0.7836 - val_loss: 0.6494 - val_accuracy: 0.7092 - 20s/epoch - 418ms/step\n",
      "Epoch 41/100\n",
      "47/47 - 20s - loss: 0.3782 - accuracy: 0.8271 - val_loss: 0.6212 - val_accuracy: 0.6723 - 20s/epoch - 420ms/step\n",
      "Epoch 42/100\n",
      "47/47 - 19s - loss: 0.3990 - accuracy: 0.8186 - val_loss: 0.5883 - val_accuracy: 0.6739 - 19s/epoch - 414ms/step\n",
      "Epoch 43/100\n",
      "47/47 - 20s - loss: 0.3479 - accuracy: 0.8429 - val_loss: 0.6504 - val_accuracy: 0.6857 - 20s/epoch - 417ms/step\n",
      "Epoch 44/100\n",
      "47/47 - 20s - loss: 0.3312 - accuracy: 0.8629 - val_loss: 0.6118 - val_accuracy: 0.7109 - 20s/epoch - 419ms/step\n",
      "Epoch 45/100\n",
      "47/47 - 19s - loss: 0.2874 - accuracy: 0.8836 - val_loss: 0.8497 - val_accuracy: 0.6958 - 19s/epoch - 415ms/step\n",
      "Epoch 46/100\n",
      "47/47 - 19s - loss: 0.2657 - accuracy: 0.8836 - val_loss: 0.8381 - val_accuracy: 0.6891 - 19s/epoch - 414ms/step\n",
      "Epoch 47/100\n",
      "47/47 - 20s - loss: 0.2506 - accuracy: 0.9064 - val_loss: 0.7415 - val_accuracy: 0.6874 - 20s/epoch - 416ms/step\n",
      "Epoch 48/100\n",
      "47/47 - 20s - loss: 0.2125 - accuracy: 0.9121 - val_loss: 0.8290 - val_accuracy: 0.6739 - 20s/epoch - 416ms/step\n",
      "Epoch 49/100\n",
      "47/47 - 20s - loss: 0.1989 - accuracy: 0.9243 - val_loss: 1.1561 - val_accuracy: 0.6807 - 20s/epoch - 417ms/step\n",
      "Epoch 50/100\n",
      "47/47 - 20s - loss: 0.1603 - accuracy: 0.9379 - val_loss: 1.0130 - val_accuracy: 0.7210 - 20s/epoch - 416ms/step\n",
      "Epoch 51/100\n",
      "47/47 - 20s - loss: 0.1265 - accuracy: 0.9529 - val_loss: 1.1433 - val_accuracy: 0.7076 - 20s/epoch - 418ms/step\n",
      "Epoch 52/100\n",
      "47/47 - 19s - loss: 0.1514 - accuracy: 0.9443 - val_loss: 1.2034 - val_accuracy: 0.7059 - 19s/epoch - 415ms/step\n",
      "Epoch 53/100\n",
      "47/47 - 19s - loss: 0.1027 - accuracy: 0.9614 - val_loss: 1.6727 - val_accuracy: 0.6941 - 19s/epoch - 414ms/step\n",
      "Epoch 54/100\n",
      "47/47 - 20s - loss: 0.1188 - accuracy: 0.9529 - val_loss: 1.5612 - val_accuracy: 0.6992 - 20s/epoch - 416ms/step\n",
      "Epoch 55/100\n",
      "47/47 - 19s - loss: 0.0790 - accuracy: 0.9686 - val_loss: 1.7682 - val_accuracy: 0.6739 - 19s/epoch - 414ms/step\n",
      "Epoch 56/100\n",
      "47/47 - 20s - loss: 0.1005 - accuracy: 0.9593 - val_loss: 1.6898 - val_accuracy: 0.7143 - 20s/epoch - 416ms/step\n",
      "Epoch 57/100\n",
      "47/47 - 20s - loss: 0.0614 - accuracy: 0.9829 - val_loss: 1.5298 - val_accuracy: 0.7008 - 20s/epoch - 416ms/step\n",
      "Epoch 58/100\n",
      "47/47 - 20s - loss: 0.0704 - accuracy: 0.9779 - val_loss: 1.8773 - val_accuracy: 0.7042 - 20s/epoch - 420ms/step\n",
      "Epoch 59/100\n",
      "47/47 - 20s - loss: 0.1834 - accuracy: 0.9336 - val_loss: 0.9206 - val_accuracy: 0.7092 - 20s/epoch - 415ms/step\n",
      "Epoch 60/100\n",
      "47/47 - 20s - loss: 0.0919 - accuracy: 0.9643 - val_loss: 1.3929 - val_accuracy: 0.6807 - 20s/epoch - 416ms/step\n",
      "Epoch 61/100\n",
      "47/47 - 20s - loss: 0.0547 - accuracy: 0.9814 - val_loss: 2.2785 - val_accuracy: 0.7008 - 20s/epoch - 415ms/step\n",
      "Epoch 62/100\n",
      "47/47 - 20s - loss: 0.1121 - accuracy: 0.9586 - val_loss: 1.2560 - val_accuracy: 0.6941 - 20s/epoch - 416ms/step\n",
      "Epoch 63/100\n",
      "47/47 - 20s - loss: 0.0444 - accuracy: 0.9857 - val_loss: 2.1191 - val_accuracy: 0.7076 - 20s/epoch - 416ms/step\n",
      "Epoch 64/100\n",
      "47/47 - 20s - loss: 0.0935 - accuracy: 0.9664 - val_loss: 1.4139 - val_accuracy: 0.6824 - 20s/epoch - 415ms/step\n",
      "Epoch 65/100\n",
      "47/47 - 20s - loss: 0.0297 - accuracy: 0.9936 - val_loss: 1.7146 - val_accuracy: 0.6824 - 20s/epoch - 416ms/step\n",
      "Epoch 66/100\n",
      "47/47 - 20s - loss: 0.0328 - accuracy: 0.9879 - val_loss: 2.1093 - val_accuracy: 0.6924 - 20s/epoch - 416ms/step\n",
      "Epoch 67/100\n",
      "47/47 - 20s - loss: 0.0467 - accuracy: 0.9857 - val_loss: 2.1839 - val_accuracy: 0.7042 - 20s/epoch - 418ms/step\n",
      "Epoch 68/100\n",
      "47/47 - 19s - loss: 0.0476 - accuracy: 0.9879 - val_loss: 1.8500 - val_accuracy: 0.7025 - 19s/epoch - 414ms/step\n",
      "Epoch 69/100\n",
      "47/47 - 20s - loss: 0.0292 - accuracy: 0.9900 - val_loss: 2.5936 - val_accuracy: 0.6857 - 20s/epoch - 416ms/step\n",
      "Epoch 70/100\n",
      "47/47 - 20s - loss: 0.0495 - accuracy: 0.9836 - val_loss: 2.2675 - val_accuracy: 0.6807 - 20s/epoch - 415ms/step\n",
      "Epoch 71/100\n",
      "47/47 - 19s - loss: 0.1172 - accuracy: 0.9607 - val_loss: 1.9268 - val_accuracy: 0.7042 - 19s/epoch - 414ms/step\n",
      "Epoch 72/100\n",
      "47/47 - 20s - loss: 0.0401 - accuracy: 0.9843 - val_loss: 2.0031 - val_accuracy: 0.6908 - 20s/epoch - 418ms/step\n",
      "Epoch 73/100\n",
      "47/47 - 20s - loss: 0.0525 - accuracy: 0.9793 - val_loss: 2.7451 - val_accuracy: 0.6756 - 20s/epoch - 416ms/step\n",
      "Epoch 74/100\n",
      "47/47 - 20s - loss: 0.0308 - accuracy: 0.9893 - val_loss: 2.5995 - val_accuracy: 0.6824 - 20s/epoch - 415ms/step\n",
      "Epoch 75/100\n",
      "47/47 - 20s - loss: 0.0248 - accuracy: 0.9914 - val_loss: 3.4316 - val_accuracy: 0.6874 - 20s/epoch - 416ms/step\n",
      "Epoch 76/100\n",
      "47/47 - 20s - loss: 0.1990 - accuracy: 0.9321 - val_loss: 1.5670 - val_accuracy: 0.6924 - 20s/epoch - 416ms/step\n",
      "Epoch 77/100\n",
      "47/47 - 20s - loss: 0.0384 - accuracy: 0.9900 - val_loss: 1.6951 - val_accuracy: 0.7059 - 20s/epoch - 416ms/step\n",
      "Epoch 78/100\n",
      "47/47 - 19s - loss: 0.0308 - accuracy: 0.9900 - val_loss: 2.1942 - val_accuracy: 0.7160 - 19s/epoch - 414ms/step\n",
      "Epoch 79/100\n",
      "47/47 - 20s - loss: 0.0396 - accuracy: 0.9886 - val_loss: 2.0725 - val_accuracy: 0.7109 - 20s/epoch - 416ms/step\n",
      "Epoch 80/100\n",
      "47/47 - 20s - loss: 0.0096 - accuracy: 0.9979 - val_loss: 2.6271 - val_accuracy: 0.6891 - 20s/epoch - 417ms/step\n",
      "Epoch 81/100\n",
      "47/47 - 20s - loss: 0.0081 - accuracy: 0.9971 - val_loss: 2.8594 - val_accuracy: 0.7176 - 20s/epoch - 416ms/step\n",
      "Epoch 82/100\n",
      "47/47 - 20s - loss: 0.0014 - accuracy: 0.9993 - val_loss: 3.0613 - val_accuracy: 0.7092 - 20s/epoch - 415ms/step\n",
      "Epoch 83/100\n",
      "47/47 - 19s - loss: 2.8542e-04 - accuracy: 1.0000 - val_loss: 3.4230 - val_accuracy: 0.7109 - 19s/epoch - 415ms/step\n",
      "Epoch 84/100\n",
      "47/47 - 20s - loss: 1.5771e-04 - accuracy: 1.0000 - val_loss: 3.9186 - val_accuracy: 0.7126 - 20s/epoch - 416ms/step\n",
      "Epoch 85/100\n",
      "47/47 - 20s - loss: 4.3803e-05 - accuracy: 1.0000 - val_loss: 5.6771 - val_accuracy: 0.7042 - 20s/epoch - 415ms/step\n",
      "Epoch 86/100\n",
      "47/47 - 19s - loss: 0.1563 - accuracy: 0.9600 - val_loss: 0.9971 - val_accuracy: 0.6975 - 19s/epoch - 415ms/step\n",
      "Epoch 87/100\n",
      "47/47 - 20s - loss: 0.0517 - accuracy: 0.9800 - val_loss: 2.1226 - val_accuracy: 0.7092 - 20s/epoch - 416ms/step\n",
      "Epoch 88/100\n",
      "47/47 - 20s - loss: 0.0526 - accuracy: 0.9829 - val_loss: 1.6594 - val_accuracy: 0.6891 - 20s/epoch - 417ms/step\n",
      "Epoch 89/100\n",
      "47/47 - 20s - loss: 0.0372 - accuracy: 0.9893 - val_loss: 1.9011 - val_accuracy: 0.6891 - 20s/epoch - 415ms/step\n",
      "Epoch 90/100\n",
      "47/47 - 20s - loss: 0.0061 - accuracy: 0.9986 - val_loss: 2.8672 - val_accuracy: 0.6824 - 20s/epoch - 416ms/step\n",
      "Epoch 91/100\n",
      "47/47 - 20s - loss: 0.0204 - accuracy: 0.9907 - val_loss: 2.3457 - val_accuracy: 0.6941 - 20s/epoch - 417ms/step\n",
      "Epoch 92/100\n",
      "47/47 - 20s - loss: 0.0015 - accuracy: 1.0000 - val_loss: 3.0023 - val_accuracy: 0.6874 - 20s/epoch - 416ms/step\n",
      "Epoch 93/100\n",
      "47/47 - 20s - loss: 0.0186 - accuracy: 0.9950 - val_loss: 2.2337 - val_accuracy: 0.6941 - 20s/epoch - 420ms/step\n",
      "Epoch 94/100\n",
      "47/47 - 20s - loss: 0.0262 - accuracy: 0.9893 - val_loss: 2.0585 - val_accuracy: 0.6807 - 20s/epoch - 415ms/step\n",
      "Epoch 95/100\n",
      "47/47 - 20s - loss: 0.0046 - accuracy: 0.9986 - val_loss: 2.9276 - val_accuracy: 0.6857 - 20s/epoch - 418ms/step\n",
      "Epoch 96/100\n",
      "47/47 - 20s - loss: 1.8076e-04 - accuracy: 1.0000 - val_loss: 3.3807 - val_accuracy: 0.6824 - 20s/epoch - 418ms/step\n",
      "Epoch 97/100\n",
      "47/47 - 20s - loss: 1.2576e-04 - accuracy: 1.0000 - val_loss: 3.8469 - val_accuracy: 0.6824 - 20s/epoch - 415ms/step\n",
      "Epoch 98/100\n",
      "47/47 - 20s - loss: 4.6456e-05 - accuracy: 1.0000 - val_loss: 4.7858 - val_accuracy: 0.6857 - 20s/epoch - 416ms/step\n",
      "Epoch 99/100\n",
      "47/47 - 20s - loss: 0.1158 - accuracy: 0.9657 - val_loss: 1.0852 - val_accuracy: 0.6487 - 20s/epoch - 415ms/step\n",
      "Epoch 100/100\n",
      "47/47 - 20s - loss: 0.0658 - accuracy: 0.9786 - val_loss: 2.0256 - val_accuracy: 0.6605 - 20s/epoch - 416ms/step\n"
     ]
    }
   ],
   "source": [
    "history = model.fit(train_generator,\n",
    "                    validation_data=validation_generator,\n",
    "                    epochs=100,\n",
    "                    verbose=2)"
   ]
  },
  {
   "cell_type": "code",
   "execution_count": 88,
   "metadata": {},
   "outputs": [
    {
     "data": {
      "image/png": "[encoded data removed]",
      "text/plain": [
       "<Figure size 640x480 with 1 Axes>"
      ]
     },
     "metadata": {},
     "output_type": "display_data"
    }
   ],
   "source": [
    "plt.plot(history.history['accuracy'], color = 'red')\n",
    "plt.plot(history.history['val_accuracy'], color = 'blue')\n",
    "plt.show()"
   ]
  },
  {
   "cell_type": "code",
   "execution_count": 90,
   "metadata": {},
   "outputs": [
    {
     "data": {
      "text/plain": [
       "0.7310924530029297"
      ]
     },
     "execution_count": 90,
     "metadata": {},
     "output_type": "execute_result"
    }
   ],
   "source": [
    "max(history.history['val_accuracy'])"
   ]
  },
  {
   "cell_type": "code",
   "execution_count": 91,
   "metadata": {},
   "outputs": [
    {
     "name": "stderr",
     "output_type": "stream",
     "text": [
      "c:\\Users\\sivaram\\AppData\\Local\\Programs\\Python\\Python311\\Lib\\site-packages\\keras\\src\\engine\\training.py:3000: UserWarning: You are saving your model as an HDF5 file via `model.save()`. This file format is considered legacy. We recommend using instead the native Keras format, e.g. `model.save('my_model.keras')`.\n",
      "  saving_api.save_model(\n"
     ]
    }
   ],
   "source": [
    "model.save(\"ppgmodel.h5\")"
   ]
  },
  {
   "cell_type": "code",
   "execution_count": 93,
   "metadata": {},
   "outputs": [],
   "source": [
    "k = load_model('ppgmodel.h5')"
   ]
  },
  {
   "cell_type": "code",
   "execution_count": 102,
   "metadata": {},
   "outputs": [
    {
     "name": "stdout",
     "output_type": "stream",
     "text": [
      "20/20 [==============================] - 1s 53ms/step - loss: 2.0256 - accuracy: 0.6605\n"
     ]
    },
    {
     "data": {
      "text/plain": [
       "[2.0255846977233887, 0.6605042219161987]"
      ]
     },
     "execution_count": 102,
     "metadata": {},
     "output_type": "execute_result"
    }
   ],
   "source": [
    "k.evaluate(validation_generator)"
   ]
  },
  {
   "cell_type": "code",
   "execution_count": null,
   "metadata": {},
   "outputs": [],
   "source": []
  }
 ],
 "metadata": {
  "kernelspec": {
   "display_name": "Python 3",
   "language": "python",
   "name": "python3"
  },
  "language_info": {
   "codemirror_mode": {
    "name": "ipython",
    "version": 3
   },
   "file_extension": ".py",
   "mimetype": "text/x-python",
   "name": "python",
   "nbconvert_exporter": "python",
   "pygments_lexer": "ipython3",
   "version": "3.11.1"
  }
 },
 "nbformat": 4,
 "nbformat_minor": 2
}
