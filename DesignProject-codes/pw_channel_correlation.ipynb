{
 "cells": [
  {
   "cell_type": "code",
   "execution_count": 14,
   "metadata": {},
   "outputs": [],
   "source": [
    "import numpy as np\n",
    "import os\n",
    "import random\n",
    "import cv2"
   ]
  },
  {
   "cell_type": "code",
   "execution_count": 5,
   "metadata": {},
   "outputs": [],
   "source": [
    "image=np.load(r'E:\\FF++\\out_real_npy\\001_1.npy')"
   ]
  },
  {
   "cell_type": "code",
   "execution_count": 6,
   "metadata": {},
   "outputs": [
    {
     "name": "stdout",
     "output_type": "stream",
     "text": [
      "Pairwise Channel Correlation Matrix:\n",
      "[[0.         0.99347701 0.96789252 0.98965525 0.96789252]\n",
      " [0.99347701 0.         0.98588568 0.99873802 0.98588568]\n",
      " [0.96789252 0.98588568 0.         0.992856   1.        ]\n",
      " [0.98965525 0.99873802 0.992856   0.         0.992856  ]\n",
      " [0.96789252 0.98588568 1.         0.992856   0.        ]]\n"
     ]
    }
   ],
   "source": [
    "num_channels = image.shape[-1]\n",
    "correlation_matrix = np.zeros((num_channels, num_channels))\n",
    "\n",
    "for i in range(num_channels):\n",
    "    for j in range(num_channels):\n",
    "        if i != j:\n",
    "            correlation = np.corrcoef(image[:, :, i].ravel(), image[:, :, j].ravel())[0, 1]\n",
    "            correlation_matrix[i, j] = correlation\n",
    "\n",
    "print(\"Pairwise Channel Correlation Matrix:\")\n",
    "print(correlation_matrix)"
   ]
  },
  {
   "cell_type": "code",
   "execution_count": 29,
   "metadata": {},
   "outputs": [],
   "source": [
    "sample_size = 50\n",
    "\n",
    "fake_images = os.listdir('out_fake_npy')\n",
    "sampled_fake_images = random.sample(fake_images, sample_size)\n",
    "\n",
    "real_images = os.listdir('out_real_npy')\n",
    "sampled_real_images = random.sample(real_images, sample_size)\n",
    "\n",
    "sample_images=sampled_fake_images+sampled_real_images"
   ]
  },
  {
   "cell_type": "code",
   "execution_count": 30,
   "metadata": {},
   "outputs": [
    {
     "data": {
      "text/plain": [
       "100"
      ]
     },
     "execution_count": 30,
     "metadata": {},
     "output_type": "execute_result"
    }
   ],
   "source": [
    "len(sample_images)"
   ]
  },
  {
   "cell_type": "code",
   "execution_count": 43,
   "metadata": {},
   "outputs": [
    {
     "name": "stdout",
     "output_type": "stream",
     "text": [
      "[[[0.         0.99432959 0.99250713 0.99721139 0.99250713]\n",
      "  [0.99432959 0.         0.98753813 0.99795534 0.98753813]\n",
      "  [0.99250713 0.98753813 0.         0.99543747 1.        ]\n",
      "  [0.99721139 0.99795534 0.99543747 0.         0.99543747]\n",
      "  [0.99250713 0.98753813 1.         0.99543747 0.        ]]\n",
      "\n",
      " [[0.         0.9493974  0.81103588 0.92401805 0.81103588]\n",
      "  [0.9493974  0.         0.93062966 0.99233502 0.93062966]\n",
      "  [0.81103588 0.93062966 0.         0.96778025 1.        ]\n",
      "  [0.92401805 0.99233502 0.96778025 0.         0.96778025]\n",
      "  [0.81103588 0.93062966 1.         0.96778025 0.        ]]\n",
      "\n",
      " [[0.         0.99452381 0.95961294 0.99042647 0.95961294]\n",
      "  [0.99452381 0.         0.9695241  0.99636551 0.9695241 ]\n",
      "  [0.95961294 0.9695241  0.         0.98663572 1.        ]\n",
      "  [0.99042647 0.99636551 0.98663572 0.         0.98663572]\n",
      "  [0.95961294 0.9695241  1.         0.98663572 0.        ]]\n",
      "\n",
      " ...\n",
      "\n",
      " [[0.         0.98348888 0.94864892 0.97950071 0.94864892]\n",
      "  [0.98348888 0.         0.97847101 0.99755215 0.97847101]\n",
      "  [0.94864892 0.97847101 0.         0.98996746 1.        ]\n",
      "  [0.97950071 0.99755215 0.98996746 0.         0.98996746]\n",
      "  [0.94864892 0.97847101 1.         0.98996746 0.        ]]\n",
      "\n",
      " [[0.         0.99007369 0.98363537 0.99152071 0.98363703]\n",
      "  [0.99007369 0.         0.99148722 0.99872348 0.99148853]\n",
      "  [0.98363537 0.99148722 0.         0.99649187 0.99999992]\n",
      "  [0.99152071 0.99872348 0.99649187 0.         0.99649271]\n",
      "  [0.98363703 0.99148853 0.99999992 0.99649271 0.        ]]\n",
      "\n",
      " [[0.         0.96348356 0.92668975 0.97266509 0.92668975]\n",
      "  [0.96348356 0.         0.93460965 0.99162207 0.93460965]\n",
      "  [0.92668975 0.93460965 0.         0.971267   1.        ]\n",
      "  [0.97266509 0.99162207 0.971267   0.         0.971267  ]\n",
      "  [0.92668975 0.93460965 1.         0.971267   0.        ]]]\n"
     ]
    }
   ],
   "source": [
    "correlation_matrices = np.zeros((100, 5, 5))\n",
    "c=0\n",
    "for i in sample_images:\n",
    "    if(c<50):\n",
    "        path='E:/FF++/out_real_npy/'+str(i)\n",
    "    else:\n",
    "        path='E:/FF++/out_fake_npy/'+str(i)\n",
    "    img=np.load(path)\n",
    "    for j in range(num_channels):\n",
    "        for k in range(num_channels):\n",
    "            if j != k:\n",
    "                correlation = np.corrcoef(img[:, :, j].ravel(), img[:, :, k].ravel())[0, 1]\n",
    "                correlation_matrices[c, j, k] = correlation\n",
    "    c+=1\n",
    "print(correlation_matrices)"
   ]
  },
  {
   "cell_type": "code",
   "execution_count": 44,
   "metadata": {},
   "outputs": [
    {
     "data": {
      "text/plain": [
       "array([[0.        , 0.96179138, 0.91050248, 0.95994653, 0.91846267],\n",
       "       [0.96179138, 0.        , 0.96007182, 0.99566872, 0.96165902],\n",
       "       [0.91050248, 0.96007182, 0.        , 0.9804025 , 0.99686781],\n",
       "       [0.95994653, 0.99566872, 0.9804025 , 0.        , 0.98108765],\n",
       "       [0.91846267, 0.96165902, 0.99686781, 0.98108765, 0.        ]])"
      ]
     },
     "execution_count": 44,
     "metadata": {},
     "output_type": "execute_result"
    }
   ],
   "source": [
    "average_correlation = np.mean(correlation_matrices, axis=0)\n",
    "average_correlation"
   ]
  },
  {
   "cell_type": "code",
   "execution_count": 45,
   "metadata": {},
   "outputs": [
    {
     "data": {
      "text/plain": [
       "(2, 4)"
      ]
     },
     "execution_count": 45,
     "metadata": {},
     "output_type": "execute_result"
    }
   ],
   "source": [
    "channels_to_remove = np.unravel_index(np.argmax(average_correlation), average_correlation.shape)\n",
    "channels_to_remove"
   ]
  },
  {
   "cell_type": "code",
   "execution_count": 56,
   "metadata": {},
   "outputs": [
    {
     "name": "stdout",
     "output_type": "stream",
     "text": [
      "Channel - Most Correlated Channel\n",
      "Channel 3 - Channel 5 - Correlation Value: 0.9969\n",
      "Channel 5 - Channel 3 - Correlation Value: 0.9969\n",
      "Channel 2 - Channel 4 - Correlation Value: 0.9957\n",
      "Channel 4 - Channel 2 - Correlation Value: 0.9957\n",
      "Channel 1 - Channel 2 - Correlation Value: 0.9618\n"
     ]
    }
   ],
   "source": [
    "import numpy as np\n",
    "\n",
    "# Your correlation matrix\n",
    "correlation_matrix = average_correlation\n",
    "\n",
    "# Find the channel with the highest correlation for each channel\n",
    "most_correlated_channels={}\n",
    "for i in range(correlation_matrix.shape[0]):\n",
    "    max_corr = -1\n",
    "    max_corr_channel = -1\n",
    "    for j in range(correlation_matrix.shape[1]):\n",
    "        if i != j and correlation_matrix[i, j] > max_corr:\n",
    "            max_corr = correlation_matrix[i, j]\n",
    "            max_corr_channel = j\n",
    "    most_correlated_channels[i]=(max_corr_channel,max_corr)\n",
    "\n",
    "most_correlated_channels = dict(sorted(most_correlated_channels.items(), key=lambda item: item[1][1],reverse=True))\n",
    "\n",
    "print(\"Channel - Most Correlated Channel\")\n",
    "for i, (channel,correlation) in most_correlated_channels.items():\n",
    "    print(f\"Channel {i+1} - Channel {channel+1} - Correlation Value: {correlation:.4f}\")"
   ]
  },
  {
   "cell_type": "code",
   "execution_count": null,
   "metadata": {},
   "outputs": [],
   "source": []
  }
 ],
 "metadata": {
  "kernelspec": {
   "display_name": "Python 3",
   "language": "python",
   "name": "python3"
  },
  "language_info": {
   "codemirror_mode": {
    "name": "ipython",
    "version": 3
   },
   "file_extension": ".py",
   "mimetype": "text/x-python",
   "name": "python",
   "nbconvert_exporter": "python",
   "pygments_lexer": "ipython3",
   "version": "3.9.2"
  }
 },
 "nbformat": 4,
 "nbformat_minor": 2
}
